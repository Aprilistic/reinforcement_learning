{
 "cells": [
  {
   "cell_type": "code",
   "execution_count": 1,
   "metadata": {},
   "outputs": [],
   "source": [
    "import numpy as np"
   ]
  },
  {
   "cell_type": "code",
   "execution_count": 3,
   "metadata": {},
   "outputs": [],
   "source": [
    "class GridWorld:\n",
    "    def __init__(self):\n",
    "        self.action_space = [0, 1, 2, 3]\n",
    "        self.action_meaning = {\n",
    "            0: 'UP',\n",
    "            1: 'DOWN',\n",
    "            2: 'LEFT',\n",
    "            3: 'RIGHT',\n",
    "        }\n",
    "\n",
    "        self.reward_map = np.array(\n",
    "            [[0, 0, 0, 1.0],\n",
    "             [0, None, 0, -1.0],\n",
    "             [0, 0, 0, 0]]\n",
    "        )\n",
    "        self.goal_state = (0, 3)\n",
    "        self.wall_state = (1, 1)\n",
    "        self.start_state = (2, 0)\n",
    "        self.agent_state = self.start_state\n",
    "\n",
    "    @property\n",
    "    def height(self):\n",
    "        return len(self.reward_map)\n",
    "    \n",
    "    @property\n",
    "    def width(self):\n",
    "        return len(self.reward_map[0])\n",
    "    \n",
    "    @property\n",
    "    def shape(self):\n",
    "        return self.reward_map.shape\n",
    "    \n",
    "    def actions(self):\n",
    "        return self.action_space\n",
    "    \n",
    "    def states(self):\n",
    "        for h in range(self.height):\n",
    "            for w in range(self.width):\n",
    "                yield (h, w)\n",
    "\n",
    "    def next_state(self, state, action):\n",
    "        action_move_map = [(-1, 0), (1, 0), (0, -1), (0, 1)]\n",
    "        move = action_move_map(action)\n",
    "        next_state = (state[0] + move[0], state[1] + move[1])\n",
    "        ny, nx = next_state\n",
    "\n",
    "        if nx < 0 or nx >= self.width or ny < 0 or ny >= self.height: #out of boundry\n",
    "            next_state = state\n",
    "        elif next_state == self.wall_state: #if it is a wall\n",
    "            next_state = state\n",
    "        \n",
    "        return next_state\n",
    "    \n",
    "    def reward(self, state, action, next_state):\n",
    "        return self.reward_map(next_state)\n"
   ]
  },
  {
   "cell_type": "code",
   "execution_count": 11,
   "metadata": {},
   "outputs": [
    {
     "name": "stdout",
     "output_type": "stream",
     "text": [
      "0\n"
     ]
    }
   ],
   "source": [
    "# if '__file__' in globals():\n",
    "#     import os, sys\n",
    "#     sys.path.append(os.path.join(os.path.dirname(__file__), '..'))\n",
    "from collections import defaultdict\n",
    "from dezerogym.gridworld import GridWorld\n",
    "\n",
    "env = GridWorld()\n",
    "V = defaultdict(lambda: 0)\n",
    "\n",
    "state = (1, 2)\n",
    "print(V[state])"
   ]
  },
  {
   "cell_type": "code",
   "execution_count": 12,
   "metadata": {},
   "outputs": [
    {
     "name": "stdout",
     "output_type": "stream",
     "text": [
      "{0: 0.25, 1: 0.25, 2: 0.25, 3: 0.25}\n"
     ]
    }
   ],
   "source": [
    "pi = defaultdict(lambda: {0: 0.25, 1: 0.25, 2: 0.25, 3: 0.25})\n",
    "\n",
    "state = (0, 1)\n",
    "print(pi[state])"
   ]
  },
  {
   "cell_type": "code",
   "execution_count": 13,
   "metadata": {},
   "outputs": [],
   "source": [
    "def eval_onestep(pi, V, env, gamma=0.9):\n",
    "    for state in env.states():\n",
    "        if state == env.goal_state:\n",
    "            V[state] = 0\n",
    "            continue\n",
    "\n",
    "        action_probs = pi[state]\n",
    "        new_V = 0\n",
    "\n",
    "        for action, action_prob in action_probs.items():\n",
    "            next_state = env.next_state(state, action)\n",
    "            r = env.reward(state, action, next_state)\n",
    "            new_V += action_prob * (r + gamma * V[next_state])\n",
    "\n",
    "        V[state] = new_V\n",
    "    return V"
   ]
  },
  {
   "cell_type": "code",
   "execution_count": 16,
   "metadata": {},
   "outputs": [],
   "source": [
    "def policy_eval(pi, V, env, gamma, threshold=0.001):\n",
    "    while True:\n",
    "        old_V = V.copy()\n",
    "        V = eval_onestep(pi, V, env, gamma)\n",
    "\n",
    "        delta = 0\n",
    "        for state in V.keys():\n",
    "            tmp = abs(V[state] - old_V[state])\n",
    "            if delta < tmp:\n",
    "                delta = tmp\n",
    "\n",
    "        if delta < threshold:\n",
    "            break\n",
    "    return V"
   ]
  },
  {
   "cell_type": "code",
   "execution_count": 17,
   "metadata": {},
   "outputs": [
    {
     "data": {
      "image/png": "[encoded data removed]",
      "text/plain": [
       "<Figure size 640x480 with 1 Axes>"
      ]
     },
     "metadata": {},
     "output_type": "display_data"
    }
   ],
   "source": [
    "env = GridWorld()\n",
    "gamma = 0.9\n",
    "pi = defaultdict(lambda: {0: 0.25, 1: 0.25, 2: 0.25, 3: 0.25})\n",
    "V = defaultdict(lambda: 0)\n",
    "\n",
    "V = policy_eval(pi, V, env, gamma)\n",
    "env.render_v(V, pi)"
   ]
  },
  {
   "cell_type": "code",
   "execution_count": null,
   "metadata": {},
   "outputs": [],
   "source": []
  }
 ],
 "metadata": {
  "kernelspec": {
   "display_name": "Python 3",
   "language": "python",
   "name": "python3"
  },
  "language_info": {
   "codemirror_mode": {
    "name": "ipython",
    "version": 3
   },
   "file_extension": ".py",
   "mimetype": "text/x-python",
   "name": "python",
   "nbconvert_exporter": "python",
   "pygments_lexer": "ipython3",
   "version": "3.11.6"
  }
 },
 "nbformat": 4,
 "nbformat_minor": 2
}
